﻿{
  "metadata": {
    "name": "TP_SPARK_SQL",
    "kernelspec": {
      "language": "scala",
      "name": "spark2-scala"
    },
    "language_info": {
      "codemirror_mode": "text/x-scala",
      "file_extension": ".scala",
      "mimetype": "text/x-scala",
      "name": "scala",
      "pygments_lexer": "scala"
    }
  },
  "nbformat": 4,
  "nbformat_minor": 2,
  "cells": [
    {
      "cell_type": "code",
      "execution_count": 0,
      "metadata": {
        "autoscroll": "auto"
      },
      "outputs": [],
      "source": "%spark\nval bots_p\u003dspark.read.parquet(\"/user/root/ROM/parquet/bots.parquet\")\nbots_p.write.saveAsTable(\"BOTS_P\")\nAIRLINE_ID.csv"
    },
    {
      "cell_type": "code",
      "execution_count": 1,
      "metadata": {
        "autoscroll": "auto"
      },
      "outputs": [],
      "source": "%spark\nval ref_AIRL_ID\u003dspark.read.option(\"inferSchema\",true).option(\"header\",true).csv(\"/user/root/ROM/ref/csv/AIRLINE_ID.csv\")\nval ref_AIRP_ID\u003dspark.read.option(\"inferSchema\",true).option(\"header\",true).csv(\"/user/root/ROM/ref/csv/AIRPORT_ID.csv\")\nref_AIRL_ID.write.parquet(\"/user/root/ROM/parquet/ref_AIRL_ID.parquet\")\nref_AIRP_ID.write.parquet(\"/user/root/ROM/parquet/ref_AIRP_ID.parquet\")"
    },
    {
      "cell_type": "code",
      "execution_count": 2,
      "metadata": {
        "autoscroll": "auto"
      },
      "outputs": [],
      "source": "%spark\nval ref_AIRL_ID_p\u003dspark.read.parquet(\"/user/root/ROM/parquet/ref_AIRL_ID.parquet\")\nref_AIRL_ID_p.write.saveAsTable(\"ref_AIRL_ID\")\nval ref_AIRP_ID_p\u003dspark.read.parquet(\"/user/root/ROM/parquet/ref_AIRP_ID.parquet\")\nref_AIRP_ID_p.write.saveAsTable(\"ref_AIRP_ID\")"
    },
    {
      "cell_type": "code",
      "execution_count": 3,
      "metadata": {
        "autoscroll": "auto"
      },
      "outputs": [],
      "source": "%spark\nval sqlDF \u003d spark.sql(\"SELECT * FROM ref_AIRP_ID\")\nsqlDF.show()"
    },
    {
      "cell_type": "code",
      "execution_count": 4,
      "metadata": {
        "autoscroll": "auto"
      },
      "outputs": [],
      "source": "%spark\n\n\nval jointure\u003dspark.sql(\"SELECT BOTS_P.flightDate, ref_AIRP_ID.Description as Airport, ref_AIRL_ID.Description as Airline FROM BOTS_P, ref_AIRP_ID, ref_AIRL_ID where BOTS_P.OriginAirportID\u003dref_AIRP.code and BOTS_P.REporting_Airline\u003dref_AIRL.code\")\n"
    },
    {
      "cell_type": "code",
      "execution_count": 5,
      "metadata": {
        "autoscroll": "auto"
      },
      "outputs": [],
      "source": "%spark\nval jointure\u003dspark.sql(\"SELECT BOTS_P.flightDate, ref_AIRP_ID.Description as Airport, ref_AIRL_ID.Description as Airline FROM BOTS_P, ref_AIRP_ID, ref_AIRL_ID where BOTS_P.OriginAirportID\u003dref_AIRP_ID.code and BOTS_P.REporting_Airline\u003dref_AIRL_ID.code\")"
    },
    {
      "cell_type": "code",
      "execution_count": 6,
      "metadata": {
        "autoscroll": "auto"
      },
      "outputs": [],
      "source": "%spark\nval jointure\u003dspark.sql(\"SELECT BOTS_P.flightDate, ref_AIRP_ID.Description as Airport, ref_AIRL_ID.Description as Airline FROM BOTS_P, ref_AIRP_ID, ref_AIRL_ID where BOTS_P.OriginAirportID\u003dref_AIRP_ID.code and BOTS_P.REporting_Airline\u003dref_AIRL_ID.code\")"
    },
    {
      "cell_type": "code",
      "execution_count": 7,
      "metadata": {
        "autoscroll": "auto"
      },
      "outputs": [],
      "source": "%spark\njointure.show()"
    },
    {
      "cell_type": "code",
      "execution_count": 8,
      "metadata": {
        "autoscroll": "auto"
      },
      "outputs": [],
      "source": "%spark\nval test\u003dspark.sql(\"select flightdate, originairportid,reportingairline from bots_p\").show(10)\n"
    },
    {
      "cell_type": "code",
      "execution_count": 9,
      "metadata": {
        "autoscroll": "auto"
      },
      "outputs": [],
      "source": "%spark\nval test\u003dspark.sql(\"select flightdate, originairportid,reporting_airline from bots_p\").show(10)"
    },
    {
      "cell_type": "code",
      "execution_count": 10,
      "metadata": {
        "autoscroll": "auto"
      },
      "outputs": [],
      "source": "%spark\nval test\u003dspark.sql(\"select flightdate, originairportid,dot_id_reporting_airline from bots_p\").show(10)"
    },
    {
      "cell_type": "code",
      "execution_count": 11,
      "metadata": {
        "autoscroll": "auto"
      },
      "outputs": [],
      "source": "%spark\n\n\nval jointure\u003dspark.sql(\"SELECT BOTS_P.flightDate, ref_AIRP_ID.Description as Airport, ref_AIRL_ID.Description as Airline FROM BOTS_P, ref_AIRP_ID, ref_AIRL_ID where BOTS_P.OriginAirportID\u003dref_AIRP_ID.code and BOTS_P.dot_id_Reporting_Airline\u003dref_AIRL_ID.code\")\njointure.show(10)"
    },
    {
      "cell_type": "code",
      "execution_count": 12,
      "metadata": {
        "autoscroll": "auto"
      },
      "outputs": [],
      "source": "%spark\nval jointure\u003dspark.sql(\"SELECT BOTS_P.Month, ref_AIRP_ID.Description as Airport, ref_AIRL_ID.Description as Airline FROM BOTS_P, ref_AIRP_ID, ref_AIRL_ID where BOTS_P.OriginAirportID\u003dref_AIRP_ID.code and BOTS_P.dot_id_Reporting_Airline\u003dref_AIRL_ID.code\")\njointure.show(10)"
    },
    {
      "cell_type": "code",
      "execution_count": 13,
      "metadata": {
        "autoscroll": "auto"
      },
      "outputs": [],
      "source": "%spark\nval jointure\u003dspark.sql(\"SELECT BOTS_P.Month, ref_AIRP_ID.Description as Airport, ref_AIRL_ID.Description as Airline FROM BOTS_P, ref_AIRP_ID, ref_AIRL_ID where BOTS_P.OriginAirportID\u003dref_AIRP_ID.code and BOTS_P.dot_id_Reporting_Airline\u003dref_AIRL_ID.code\")\njointure.show(100)"
    },
    {
      "cell_type": "code",
      "execution_count": 14,
      "metadata": {
        "autoscroll": "auto"
      },
      "outputs": [],
      "source": "%spark\njointure.write.createTempview(\"TmpJ\")"
    },
    {
      "cell_type": "code",
      "execution_count": 15,
      "metadata": {
        "autoscroll": "auto"
      },
      "outputs": [],
      "source": "%spark\njointure.write.createTempView(\"TmpJ\")"
    },
    {
      "cell_type": "code",
      "execution_count": 16,
      "metadata": {
        "autoscroll": "auto"
      },
      "outputs": [],
      "source": "%spark\njointure.createTempView(\"TmpJ\")"
    },
    {
      "cell_type": "code",
      "execution_count": 17,
      "metadata": {
        "autoscroll": "auto"
      },
      "outputs": [],
      "source": "%spark\nval sqlDF \u003d spark.sql(\"SELECT * FROM TmpJ\")\nsqlDF.show(100)"
    },
    {
      "cell_type": "code",
      "execution_count": 18,
      "metadata": {
        "autoscroll": "auto"
      },
      "outputs": [],
      "source": "%spark\nval sqlDF \u003d spark.sql(\"SELECT *, count(Airport) as NB_Airport FROM TmpJ group by Airline, Month, Airport\")\nsqlDF.show(100)"
    },
    {
      "cell_type": "code",
      "execution_count": 19,
      "metadata": {
        "autoscroll": "auto"
      },
      "outputs": [],
      "source": "%spark"
    },
    {
      "cell_type": "code",
      "execution_count": 20,
      "metadata": {
        "autoscroll": "auto"
      },
      "outputs": [],
      "source": "%spark\nval sqlDF \u003d spark.sql(\"SELECT *, count(Airport) as NB_Airport FROM TmpJ group by Airport, Airline, Month\")\nsqlDF.show(100)"
    },
    {
      "cell_type": "code",
      "execution_count": 21,
      "metadata": {},
      "outputs": [],
      "source": "%%sql\nSELECT *, count(Airport) as NB_Airport FROM TmpJ group by Airport, Airline, Month\n\n"
    },
    {
      "cell_type": "code",
      "execution_count": 22,
      "metadata": {},
      "outputs": [],
      "source": "%%sql\nselect distinct Airline, count(Airport) from TMPJ group by Airport, Airline"
    },
    {
      "cell_type": "code",
      "execution_count": 23,
      "metadata": {},
      "outputs": [],
      "source": "%%sql\nselect distinct Airline, count(Airport) from TMPJ where Month\u003d1 group by Airport, Airline\n"
    },
    {
      "cell_type": "code",
      "execution_count": 24,
      "metadata": {
        "autoscroll": "auto"
      },
      "outputs": [],
      "source": "%spark\nval jointure\u003dspark.sql(\"SELECT BOTS_P.Month, BOTS_P.DayOfMonth, ref_AIRP_ID.Description as Airport, ref_AIRL_ID.Description as Airline FROM BOTS_P, ref_AIRP_ID, ref_AIRL_ID where BOTS_P.OriginAirportID\u003dref_AIRP_ID.code and BOTS_P.dot_id_Reporting_Airline\u003dref_AIRL_ID.code\")\njointure.createOrReplaceTempView(\"TmpJ\")"
    },
    {
      "cell_type": "code",
      "execution_count": 25,
      "metadata": {},
      "outputs": [],
      "source": "%%sql\nselect distinct Airline, count(Airport) from TMPJ where Month\u003d1 and DayOfMonth\u003d1 group by Airport, Airline"
    },
    {
      "cell_type": "code",
      "execution_count": 26,
      "metadata": {},
      "outputs": [],
      "source": "%%sql\n"
    }
  ]
}